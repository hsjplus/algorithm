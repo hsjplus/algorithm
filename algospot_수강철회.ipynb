{
 "cells": [
  {
   "cell_type": "code",
   "execution_count": 1,
   "metadata": {
    "collapsed": true
   },
   "outputs": [],
   "source": [
    "# 제목: 수강 철회(일부)\n",
    "# 출처: https://algospot.com/judge/problem/read/WITHDRAWAL\n",
    "\n",
    "# 입력 예제\n",
    "# 3 2\n",
    "# 1 4 6 10 10 17\n",
    "\n",
    "# 예제 출력 \n",
    "# 0.5000000000 \n",
    "\n",
    "#############################################################"
   ]
  },
  {
   "cell_type": "code",
   "execution_count": 2,
   "metadata": {},
   "outputs": [
    {
     "name": "stdout",
     "output_type": "stream",
     "text": [
      "0.5\n"
     ]
    }
   ],
   "source": [
    "# 입력\n",
    "first_subject = [3,2]\n",
    "first_rank = [1,4,6,10,10,17]\n",
    "\n",
    "# 풀이\n",
    "min = 1; \n",
    "for idx in [i*2 for i in range(first_subject[0])]:\n",
    "    tmp = [x for x in first_rank]\n",
    "    tmp.pop(idx); tmp.pop(idx);\n",
    "    up_num = 0; down_num=0; \n",
    "    for idx2 in [j*2 for j in range(int(len(tmp)/2))]:\n",
    "        up_num += tmp[idx2]\n",
    "    for idx2 in [j*2+1 for j in range(int(len(tmp)/2))]:\n",
    "        down_num += tmp[idx2]\n",
    "    \n",
    "    if (up_num/down_num) < min:\n",
    "        min = (up_num)/(down_num)\n",
    "\n",
    "print(min)"
   ]
  },
  {
   "cell_type": "code",
   "execution_count": null,
   "metadata": {
    "collapsed": true
   },
   "outputs": [],
   "source": []
  }
 ],
 "metadata": {
  "kernelspec": {
   "display_name": "Python 3",
   "language": "python",
   "name": "python3"
  },
  "language_info": {
   "codemirror_mode": {
    "name": "ipython",
    "version": 3
   },
   "file_extension": ".py",
   "mimetype": "text/x-python",
   "name": "python",
   "nbconvert_exporter": "python",
   "pygments_lexer": "ipython3",
   "version": "3.6.3"
  }
 },
 "nbformat": 4,
 "nbformat_minor": 2
}
