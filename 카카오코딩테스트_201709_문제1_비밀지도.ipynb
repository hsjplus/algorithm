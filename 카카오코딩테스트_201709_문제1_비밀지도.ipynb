{
 "cells": [
  {
   "cell_type": "code",
   "execution_count": 1,
   "metadata": {
    "collapsed": true
   },
   "outputs": [],
   "source": [
    "### 카카오 신입 공채 1차 코딩테스트 문제(2017.09.) 1번 비밀지도 (문제는 아래 링크 참고)\n",
    "# http://tech.kakao.com/2017/09/27/kakao-blind-recruitment-round-1/"
   ]
  },
  {
   "cell_type": "code",
   "execution_count": 2,
   "metadata": {
    "collapsed": true
   },
   "outputs": [],
   "source": [
    "# 문자해결 함수 만들기\n",
    "def problem_solver(n, arr1, arr2):\n",
    "    # 필요한 변수 선언 및 arr_full만들기(0으로 값이 초기화된 n*n 리스트)\n",
    "    arr1_full = []; arr2_full = []; arr_mix = []; arr_print = []\n",
    "    for arr_full in [arr1_full, arr2_full, arr_mix]:\n",
    "        for i in range(n): arr_full.append([0 for val in range(n)])\n",
    "\n",
    "    # 2진수 변환 함수 실행 \n",
    "    arr_full_transform(arr1, arr1_full); arr_full_transform(arr2, arr2_full)\n",
    "\n",
    "    # arr_mix 만들기(2진수끼리 OR 연산)\n",
    "    for i in range(n):\n",
    "        for j in range(n): arr_mix[i][j] = (arr1_full[i][j] | arr2_full[i][j])\n",
    "\n",
    "    # arr_mix를 공백과 # 형태의 문자열로 바꾸어 -> arr_print 리스트에 추가 \n",
    "    for arr_row in arr_mix:\n",
    "        str_val = ''\n",
    "        for val in arr_row:\n",
    "            if val == 1: str_val = str_val + '#'\n",
    "            else: str_val = str_val + ' '\n",
    "        arr_print.append(str_val)\n",
    "    \n",
    "    # arr_print 출력\n",
    "    print(arr_print)\n",
    "\n",
    "# arr_full_transform 함수 만들기(2진수로 변환)\n",
    "def arr_full_transform(arr, arr_full):\n",
    "    for i in range(n):\n",
    "        for j in range(n):\n",
    "            arr_full[i][n-1-j] = arr[i] % 2\n",
    "            arr[i] = arr[i] // 2\n",
    "            if arr[i] < 2:\n",
    "                arr_full[i][n-2-j] = arr[i]\n",
    "                break"
   ]
  },
  {
   "cell_type": "code",
   "execution_count": 3,
   "metadata": {},
   "outputs": [
    {
     "name": "stdout",
     "output_type": "stream",
     "text": [
      "['#####', '# # #', '### #', '#  ##', '#####']\n"
     ]
    }
   ],
   "source": [
    "# 매개변수 입력 예시1 \n",
    "n = 5; arr1 = [9, 20, 28, 18, 11]; arr2 = [30, 1, 21, 17, 28]\n",
    "problem_solver(n, arr1, arr2)"
   ]
  },
  {
   "cell_type": "code",
   "execution_count": 4,
   "metadata": {},
   "outputs": [
    {
     "name": "stdout",
     "output_type": "stream",
     "text": [
      "['######', '###  #', '##  ##', ' #### ', ' #####', '### # ']\n"
     ]
    }
   ],
   "source": [
    "# 매개변수 입력 예시2 \n",
    "n = 6; arr1 = [46, 33, 33 ,22, 31, 50]; arr2 = [27 ,56, 19, 14, 14, 10]\n",
    "problem_solver(n, arr1, arr2)"
   ]
  }
 ],
 "metadata": {
  "kernelspec": {
   "display_name": "Python 3",
   "language": "python",
   "name": "python3"
  },
  "language_info": {
   "codemirror_mode": {
    "name": "ipython",
    "version": 3
   },
   "file_extension": ".py",
   "mimetype": "text/x-python",
   "name": "python",
   "nbconvert_exporter": "python",
   "pygments_lexer": "ipython3",
   "version": "3.6.3"
  }
 },
 "nbformat": 4,
 "nbformat_minor": 2
}
