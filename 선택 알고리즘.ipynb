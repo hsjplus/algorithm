{
 "cells": [
  {
   "cell_type": "code",
   "execution_count": 41,
   "metadata": {},
   "outputs": [],
   "source": [
    "def selection(A, left, right, k):\n",
    "    # p를 범위 내에서 랜덤으로 선택\n",
    "    p = 6\n",
    "    \n",
    "    tmp = A[left]\n",
    "    A[left] = A[p]\n",
    "    A[p] = tmp \n",
    "    \n",
    "    start = 0; cnt = 0 \n",
    "    \n",
    "    for i in range(left+1, right+1):\n",
    "        print('start' + str(start))\n",
    "        \n",
    "        if i >= right - start:\n",
    "            print('끝난 열' + str(i))\n",
    "            if A[left] > A[i]: \n",
    "                tmp = A[i]; A[i] = A[left]; A[left] = tmp\n",
    "            else: \n",
    "                tmp = A[i-1]; A[i-1] = A[left]; A[left] = tmp\n",
    "            break\n",
    "\n",
    "        if A[i] > A[left]:\n",
    "            tmp = A[i]\n",
    "            for j in range(start, right - i):\n",
    "                if A[right-j] < A[left]:\n",
    "                    A[i] = A[right-j]\n",
    "                    A[right-j] = tmp\n",
    "                    cnt += 1\n",
    "                    start = cnt\n",
    "                    break\n",
    "                cnt += 1\n",
    "            \n",
    "    return A"
   ]
  },
  {
   "cell_type": "code",
   "execution_count": 34,
   "metadata": {},
   "outputs": [
    {
     "name": "stdout",
     "output_type": "stream",
     "text": [
      "start0\n",
      "start2\n",
      "start2\n",
      "끝난 열3\n"
     ]
    },
    {
     "data": {
      "text/plain": [
       "[2, 1, 0, 5, 4, 3]"
      ]
     },
     "execution_count": 34,
     "metadata": {},
     "output_type": "execute_result"
    }
   ],
   "source": [
    "A = [0,4,2,5,1,3]\n",
    "selection(A, 0, 5, 3)"
   ]
  },
  {
   "cell_type": "code",
   "execution_count": 36,
   "metadata": {},
   "outputs": [
    {
     "name": "stdout",
     "output_type": "stream",
     "text": [
      "start0\n",
      "start2\n",
      "start2\n",
      "끝난 열3\n"
     ]
    },
    {
     "data": {
      "text/plain": [
       "[0, 1, 2, 5, 4, 3]"
      ]
     },
     "execution_count": 36,
     "metadata": {},
     "output_type": "execute_result"
    }
   ],
   "source": [
    "A = [0,4,2,5,1,3]\n",
    "selection(A, 0, 5, 3)"
   ]
  },
  {
   "cell_type": "code",
   "execution_count": 42,
   "metadata": {},
   "outputs": [
    {
     "name": "stdout",
     "output_type": "stream",
     "text": [
      "start0\n",
      "start0\n",
      "start2\n",
      "start6\n",
      "start7\n",
      "끝난 열5\n"
     ]
    },
    {
     "data": {
      "text/plain": [
       "[2, 3, 7, 6, 8, 12, 9, 15, 18, 10, 11, 14]"
      ]
     },
     "execution_count": 42,
     "metadata": {},
     "output_type": "execute_result"
    }
   ],
   "source": [
    "A = [6,3,11,9,12,2,8, 15, 18, 10, 7, 14]\n",
    "selection(A, 0, 11, 7)"
   ]
  },
  {
   "cell_type": "code",
   "execution_count": null,
   "metadata": {
    "collapsed": true
   },
   "outputs": [],
   "source": []
  }
 ],
 "metadata": {
  "kernelspec": {
   "display_name": "Python 3",
   "language": "python",
   "name": "python3"
  },
  "language_info": {
   "codemirror_mode": {
    "name": "ipython",
    "version": 3
   },
   "file_extension": ".py",
   "mimetype": "text/x-python",
   "name": "python",
   "nbconvert_exporter": "python",
   "pygments_lexer": "ipython3",
   "version": "3.6.3"
  }
 },
 "nbformat": 4,
 "nbformat_minor": 2
}
